{
 "cells": [
  {
   "cell_type": "markdown",
   "metadata": {},
   "source": [
    "# Introduction\n",
    "\n",
    "The Project is to build a model to improve the Zestimate residual error. \n",
    "\n",
    "logerror=log(Zestimate)−log(SalePrice) \n",
    "\n",
    "“Zestimates” are Zillow's estimated home values. The model is to predict the difference between the Zillow's estimated home value, Zestimate, and the actual sale price. \n",
    "\n",
    "## Data\n",
    "\n",
    "properties_2016.csv: a full list of real estate properties in three counties (Los Angeles, Orange and Ventura, California) data in 2016.\n",
    "\n",
    "train_2016.csv: all the transactions before October 15, 2016, plus some of the transactions after October 15, 2016. It contains parcel ID ,  transaction date and calculated log error . \n",
    "\n",
    "properties_2017.csv: a full list of real estate properties in three counties (Los Angeles, Orange and Ventura, California) data in 2017.\n",
    "\n",
    "train_2017.csv: all the transactions from Jan 1, 2017 to Sep 25, 2017. It can be used as a test dataset.\n",
    "\n"
   ]
  },
  {
   "cell_type": "code",
   "execution_count": 2,
   "metadata": {},
   "outputs": [],
   "source": [
    "#import a necessary module\n",
    "\n",
    "import pandas as pd\n",
    "import matplotlib.pyplot as plt\n",
    "import datetime\n",
    "import numpy as np\n",
    "\n",
    "# read files\n",
    "\n",
    "path_properties_2016 ='/Users/kimjisun/Documents/SpringBoard/Project 1/zillow/properties_2016.csv'\n",
    "df_properties_2016 = pd.read_csv(path_properties_2016, low_memory=False)\n",
    "\n",
    "path_train_2016 ='/Users/kimjisun/Documents/SpringBoard/Project 1/zillow/train_2016.csv'\n",
    "df_train_2016 = pd.read_csv(path_train_2016 , parse_dates=[\"transactiondate\"], low_memory=False)\n",
    "\n",
    "path_properties_2017 ='/Users/kimjisun/Documents/SpringBoard/Project 1/zillow/properties_2017.csv'\n",
    "df_properties_2017 = pd.read_csv(path_properties_2017, low_memory=False)\n",
    "\n",
    "path_train_2017 ='/Users/kimjisun/Documents/SpringBoard/Project 1/zillow/train_2017.csv'\n",
    "df_train_2017 = pd.read_csv(path_train_2017 , parse_dates=[\"transactiondate\"],low_memory=False)"
   ]
  },
  {
   "cell_type": "code",
   "execution_count": 3,
   "metadata": {},
   "outputs": [],
   "source": [
    "# merge training and properties data for 2016 and 2017\n",
    "\n",
    "df_train_2016 = pd.merge(df_train_2016, df_properties_2016, how='inner', on='parcelid')\n",
    "df_test_2017 = pd.merge(df_train_2017, df_properties_2017, how='inner', on='parcelid')"
   ]
  },
  {
   "cell_type": "code",
   "execution_count": 28,
   "metadata": {},
   "outputs": [
    {
     "data": {
      "text/plain": [
       "(90275, 3)"
      ]
     },
     "execution_count": 28,
     "metadata": {},
     "output_type": "execute_result"
    }
   ],
   "source": [
    "df_train_2016.shape"
   ]
  },
  {
   "cell_type": "code",
   "execution_count": 15,
   "metadata": {},
   "outputs": [
    {
     "data": {
      "text/plain": [
       "(90275, 3)"
      ]
     },
     "execution_count": 15,
     "metadata": {},
     "output_type": "execute_result"
    }
   ],
   "source": [
    "df_test_2016.shape"
   ]
  },
  {
   "cell_type": "markdown",
   "metadata": {},
   "source": [
    "# Data Wrangling\n",
    "\n",
    "## Data Cleaning\n",
    "\n",
    "I explored training data. 125 duplicated parcelid for 2016 data and 199 duplicated parcelid for 2017 data were found. However, it meant they were trasacted for more than twice for a year. so it didn't have any problem."
   ]
  },
  {
   "cell_type": "code",
   "execution_count": 31,
   "metadata": {},
   "outputs": [
    {
     "data": {
      "text/plain": [
       "125"
      ]
     },
     "execution_count": 31,
     "metadata": {},
     "output_type": "execute_result"
    }
   ],
   "source": [
    "df_train_2016.shape\n",
    "sum(df_train_2016.duplicated('parcelid'))"
   ]
  },
  {
   "cell_type": "code",
   "execution_count": 32,
   "metadata": {},
   "outputs": [
    {
     "data": {
      "text/plain": [
       "199"
      ]
     },
     "execution_count": 32,
     "metadata": {},
     "output_type": "execute_result"
    }
   ],
   "source": [
    "df_test_2017.shape\n",
    "sum(df_train_2017.duplicated('parcelid'))"
   ]
  },
  {
   "cell_type": "markdown",
   "metadata": {},
   "source": [
    "## Missing Values\n",
    "\n",
    "Let's check how many missing value each column has. \n",
    "Even though there are many missing values, just leave like this for now as we are not sure which columns we are gonna use\n",
    "\n"
   ]
  },
  {
   "cell_type": "code",
   "execution_count": 35,
   "metadata": {},
   "outputs": [
    {
     "data": {
      "text/plain": [
       "parcelid                            0\n",
       "logerror                            0\n",
       "transactiondate                     0\n",
       "airconditioningtypeid           61494\n",
       "architecturalstyletypeid        90014\n",
       "basementsqft                    90232\n",
       "bathroomcnt                         0\n",
       "bedroomcnt                          0\n",
       "buildingclasstypeid             90259\n",
       "buildingqualitytypeid           32911\n",
       "calculatedbathnbr                1182\n",
       "decktypeid                      89617\n",
       "finishedfloor1squarefeet        83419\n",
       "calculatedfinishedsquarefeet      661\n",
       "finishedsquarefeet12             4679\n",
       "finishedsquarefeet13            90242\n",
       "finishedsquarefeet15            86711\n",
       "finishedsquarefeet50            83419\n",
       "finishedsquarefeet6             89854\n",
       "fips                                0\n",
       "fireplacecnt                    80668\n",
       "fullbathcnt                      1182\n",
       "garagecarcnt                    60338\n",
       "garagetotalsqft                 60338\n",
       "hashottuborspa                  87910\n",
       "heatingorsystemtypeid           34195\n",
       "latitude                            0\n",
       "longitude                           0\n",
       "lotsizesquarefeet               10150\n",
       "poolcnt                         72374\n",
       "poolsizesum                     89306\n",
       "pooltypeid10                    89114\n",
       "pooltypeid2                     89071\n",
       "pooltypeid7                     73578\n",
       "propertycountylandusecode           1\n",
       "propertylandusetypeid               0\n",
       "propertyzoningdesc              31962\n",
       "rawcensustractandblock              0\n",
       "regionidcity                     1803\n",
       "regionidcounty                      0\n",
       "regionidneighborhood            54263\n",
       "regionidzip                        35\n",
       "roomcnt                             0\n",
       "storytypeid                     90232\n",
       "threequarterbathnbr             78266\n",
       "typeconstructiontypeid          89976\n",
       "unitcnt                         31922\n",
       "yardbuildingsqft17              87629\n",
       "yardbuildingsqft26              90180\n",
       "yearbuilt                         756\n",
       "numberofstories                 69705\n",
       "fireplaceflag                   90053\n",
       "structuretaxvaluedollarcnt        380\n",
       "taxvaluedollarcnt                   1\n",
       "assessmentyear                      0\n",
       "landtaxvaluedollarcnt               1\n",
       "taxamount                           6\n",
       "taxdelinquencyflag              88492\n",
       "taxdelinquencyyear              88492\n",
       "censustractandblock               605\n",
       "dtype: int64"
      ]
     },
     "execution_count": 35,
     "metadata": {},
     "output_type": "execute_result"
    }
   ],
   "source": [
    "df_2016_missing = df_train_2016.isnull().sum(axis=0)\n",
    "df_2016_missing.columns = ['missing_values']\n",
    "\n",
    "df_2016_missing"
   ]
  },
  {
   "cell_type": "code",
   "execution_count": 36,
   "metadata": {
    "scrolled": true
   },
   "outputs": [
    {
     "data": {
      "text/plain": [
       "parcelid                            0\n",
       "logerror                            0\n",
       "transactiondate                     0\n",
       "airconditioningtypeid           52606\n",
       "architecturalstyletypeid        77406\n",
       "basementsqft                    77563\n",
       "bathroomcnt                        34\n",
       "bedroomcnt                         34\n",
       "buildingclasstypeid             77598\n",
       "buildingqualitytypeid           27804\n",
       "calculatedbathnbr                 650\n",
       "decktypeid                      76999\n",
       "finishedfloor1squarefeet        71576\n",
       "calculatedfinishedsquarefeet      235\n",
       "finishedsquarefeet12             3690\n",
       "finishedsquarefeet13            77571\n",
       "finishedsquarefeet15            74586\n",
       "finishedsquarefeet50            71576\n",
       "finishedsquarefeet6             77227\n",
       "fips                               34\n",
       "fireplacecnt                    69324\n",
       "fullbathcnt                       650\n",
       "garagecarcnt                    52093\n",
       "garagetotalsqft                 52093\n",
       "hashottuborspa                  76074\n",
       "heatingorsystemtypeid           28042\n",
       "latitude                           34\n",
       "longitude                          34\n",
       "lotsizesquarefeet                8292\n",
       "poolcnt                         61439\n",
       "poolsizesum                     76744\n",
       "pooltypeid10                    77148\n",
       "pooltypeid2                     76539\n",
       "pooltypeid7                     62534\n",
       "propertycountylandusecode          34\n",
       "propertylandusetypeid              34\n",
       "propertyzoningdesc              27137\n",
       "rawcensustractandblock             34\n",
       "regionidcity                     1506\n",
       "regionidcounty                     34\n",
       "regionidneighborhood            46639\n",
       "regionidzip                        84\n",
       "roomcnt                            34\n",
       "storytypeid                     77563\n",
       "threequarterbathnbr             67507\n",
       "typeconstructiontypeid          77390\n",
       "unitcnt                         26910\n",
       "yardbuildingsqft17              75220\n",
       "yardbuildingsqft26              77543\n",
       "yearbuilt                         304\n",
       "numberofstories                 60014\n",
       "fireplaceflag                   77441\n",
       "structuretaxvaluedollarcnt        149\n",
       "taxvaluedollarcnt                  35\n",
       "assessmentyear                     34\n",
       "landtaxvaluedollarcnt              36\n",
       "taxamount                          39\n",
       "taxdelinquencyflag              74713\n",
       "taxdelinquencyyear              74713\n",
       "censustractandblock               281\n",
       "dtype: int64"
      ]
     },
     "execution_count": 36,
     "metadata": {},
     "output_type": "execute_result"
    }
   ],
   "source": [
    "df_2017_missing = df_test_2017.isnull().sum(axis=0)\n",
    "df_2017_missing"
   ]
  },
  {
   "cell_type": "markdown",
   "metadata": {},
   "source": [
    "## Outliers\n",
    "\n",
    "Let's draw a scatter plot on \"logerror\", then we can find that there are some outliers at the end of both sides. \n",
    "\n",
    "Our task in the project is to find where the zillow algorithm fails. These outliers means where the zillow algorithm fails the most. Thus, I will leave outliers just like that. \n"
   ]
  },
  {
   "cell_type": "code",
   "execution_count": 12,
   "metadata": {},
   "outputs": [
    {
     "data": {
      "text/plain": [
       "<matplotlib.collections.PathCollection at 0x110fddf60>"
      ]
     },
     "execution_count": 12,
     "metadata": {},
     "output_type": "execute_result"
    },
    {
     "data": {
      "image/png": "[encoded data removed]",
      "text/plain": [
       "<matplotlib.figure.Figure at 0x11a49de10>"
      ]
     },
     "metadata": {},
     "output_type": "display_data"
    }
   ],
   "source": [
    "plt.scatter(range(df_train_2016.shape[0]), df_train_2016.sort_values(by='logerror')['logerror'])"
   ]
  },
  {
   "cell_type": "code",
   "execution_count": null,
   "metadata": {},
   "outputs": [],
   "source": []
  }
 ],
 "metadata": {
  "kernelspec": {
   "display_name": "Python 3",
   "language": "python",
   "name": "python3"
  },
  "language_info": {
   "codemirror_mode": {
    "name": "ipython",
    "version": 3
   },
   "file_extension": ".py",
   "mimetype": "text/x-python",
   "name": "python",
   "nbconvert_exporter": "python",
   "pygments_lexer": "ipython3",
   "version": "3.6.4"
  }
 },
 "nbformat": 4,
 "nbformat_minor": 2
}
