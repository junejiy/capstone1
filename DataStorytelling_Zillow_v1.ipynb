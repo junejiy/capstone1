{
 "cells": [
  {
   "cell_type": "markdown",
   "metadata": {},
   "source": [
    "# Introduction\n",
    "\n",
    "The Project is to build a model to improve the Zestimate residual error. \n",
    "\n",
    "   $ logerror=log(Zestimate)−log(SalePrice) $ \n",
    "\n",
    "“Zestimates” are Zillow's estimated home values. The model is to predict the difference between the Zillow's estimated home value, Zestimate, and the actual sale price. \n",
    "\n",
    "## Data\n",
    "\n",
    "We have 4 files. We merge properties_2016.csv and train_2016.csv to make a training data which has 90275 data points(houses). For a test data, we merge properties_2017.csv and train_2017.csv. The test data has 77613 data points.  \n",
    "\n",
    "   **properties_2016.csv**: a full list of real estate properties in three counties (Los Angeles, Orange and Ventura, \n",
    "                           California) data in 2016.\n",
    "\n",
    "   **train_2016.csv**: all the transactions before October 15, 2016, plus some of the transactions after October \n",
    "                      15,2016. It contains parcel ID ,  transaction date and calculated log error . \n",
    "\n",
    "   **properties_2017.csv**: a full list of real estate properties in three counties (Los Angeles, Orange and Ventura,\n",
    "                           California) data in 2017.\n",
    "\n",
    "   **train_2017.csv**: all the transactions from Jan 1, 2017 to Sep 25, 2017. It can be used as a test dataset.\n",
    "\n"
   ]
  },
  {
   "cell_type": "code",
   "execution_count": null,
   "metadata": {},
   "outputs": [],
   "source": [
    "#import a necessary module\n",
    "\n",
    "import pandas as pd\n",
    "import matplotlib.pyplot as plt\n",
    "import datetime\n",
    "import numpy as np\n",
    "import seaborn as sns\n",
    "\n",
    "# read files\n",
    "\n",
    "path_properties_2016 ='/Users/kimjisun/Documents/SpringBoard/Project 1/zillow/properties_2016.csv'\n",
    "df_properties_2016 = pd.read_csv(path_properties_2016, low_memory=False)\n",
    "\n",
    "path_train_2016 ='/Users/kimjisun/Documents/SpringBoard/Project 1/zillow/train_2016.csv'\n",
    "df_train_2016 = pd.read_csv(path_train_2016 , parse_dates=[\"transactiondate\"], low_memory=False)\n",
    "\n",
    "path_properties_2017 ='/Users/kimjisun/Documents/SpringBoard/Project 1/zillow/properties_2017.csv'\n",
    "df_properties_2017 = pd.read_csv(path_properties_2017, low_memory=False)\n",
    "\n",
    "path_train_2017 ='/Users/kimjisun/Documents/SpringBoard/Project 1/zillow/train_2017.csv'\n",
    "df_train_2017 = pd.read_csv(path_train_2017 , parse_dates=[\"transactiondate\"],low_memory=False)"
   ]
  },
  {
   "cell_type": "code",
   "execution_count": null,
   "metadata": {},
   "outputs": [],
   "source": [
    "# merge training and properties data for 2016 and 2017\n",
    "\n",
    "df_train_2016 = pd.merge(df_train_2016, df_properties_2016, how='inner', on='parcelid')\n",
    "df_test_2017 = pd.merge(df_train_2017, df_properties_2017, how='inner', on='parcelid')"
   ]
  },
  {
   "cell_type": "code",
   "execution_count": null,
   "metadata": {},
   "outputs": [],
   "source": [
    "df_train_2016.shape"
   ]
  },
  {
   "cell_type": "code",
   "execution_count": null,
   "metadata": {},
   "outputs": [],
   "source": [
    "df_test_2017.shape"
   ]
  },
  {
   "cell_type": "code",
   "execution_count": null,
   "metadata": {},
   "outputs": [],
   "source": [
    "df_train_2016.head().transpose()"
   ]
  },
  {
   "cell_type": "code",
   "execution_count": null,
   "metadata": {},
   "outputs": [],
   "source": [
    "df_train_2016.describe().transpose()"
   ]
  },
  {
   "cell_type": "code",
   "execution_count": null,
   "metadata": {},
   "outputs": [],
   "source": [
    "df_train_2016.info()"
   ]
  },
  {
   "cell_type": "code",
   "execution_count": null,
   "metadata": {},
   "outputs": [],
   "source": [
    "test = df_train_2016[df_train_2016.bathroomcnt !=df_train_2016.calculatedbathnbr]\n",
    "test1 = test[test.bathroomcnt!=0.0]\n",
    "test2 = test[test.calculatedbathnbr.isnull()]\n",
    "test.shape\n",
    "#test2[['bathroomcnt','calculatedbathnbr' ]]\n"
   ]
  },
  {
   "cell_type": "code",
   "execution_count": null,
   "metadata": {},
   "outputs": [],
   "source": []
  },
  {
   "cell_type": "markdown",
   "metadata": {},
   "source": [
    "# Data Wrangling\n",
    "\n",
    "## Data Cleaning\n",
    "\n",
    "I explored training data. 125 duplicated parcelid for 2016 data and 199 duplicated parcelid for 2017 data were found. However, it meant they were trasacted for more than twice for a year. so it didn't have any problem.\n",
    "\n"
   ]
  },
  {
   "cell_type": "code",
   "execution_count": null,
   "metadata": {},
   "outputs": [],
   "source": [
    "df_train_2016.shape\n",
    "sum(df_train_2016.duplicated('parcelid'))"
   ]
  },
  {
   "cell_type": "code",
   "execution_count": null,
   "metadata": {
    "scrolled": true
   },
   "outputs": [],
   "source": [
    "df_test_2017.shape\n",
    "sum(df_train_2017.duplicated('parcelid'))"
   ]
  },
  {
   "cell_type": "code",
   "execution_count": null,
   "metadata": {},
   "outputs": [],
   "source": [
    "# Check if negative values in each column. Two columns, logerror and longitude, have negative values which are reasonable. \n",
    "\n",
    "df_train_2016.describe().loc[\"min\",:][ df_train_2016.describe().loc[\"min\",:] < 0 ]"
   ]
  },
  {
   "cell_type": "code",
   "execution_count": null,
   "metadata": {},
   "outputs": [],
   "source": [
    "# Check if columns with object type have unusual cells. \n",
    "\n",
    "# there are 5 columns with a object type\n",
    "\n",
    "df_train_2016.loc[:, df_train_2016.dtypes == np.object].columns"
   ]
  },
  {
   "cell_type": "code",
   "execution_count": null,
   "metadata": {},
   "outputs": [],
   "source": [
    "# check 5 columns to see if they have unnual cells. \n",
    "\n",
    "df_train_2016[\"hashottuborspa\"].unique() , df_train_2016[\"propertycountylandusecode\"].unique() , df_train_2016[\"propertyzoningdesc\"].unique(), df_train_2016[\"fireplaceflag\"].unique(), df_train_2016[\"taxdelinquencyflag\"].unique()"
   ]
  },
  {
   "cell_type": "markdown",
   "metadata": {},
   "source": [
    "## Missing Values\n",
    "\n",
    "Let's check how many missing value each column has. \n",
    "\n",
    "We can find that 47 columns have missing values and 18 columns among them have more than 95% of missing values. \n"
   ]
  },
  {
   "cell_type": "code",
   "execution_count": null,
   "metadata": {},
   "outputs": [],
   "source": [
    "df_2016_missing = df_train_2016.isnull().sum(axis=0).reset_index()\n",
    "df_2016_missing.columns = [\"index\",'missing_values']\n",
    "\n",
    "\n",
    "df_2016_missing = df_2016_missing[df_2016_missing.missing_values != 0]\n",
    "df_2016_missing['ratio'] =df_2016_missing['missing_values']/len(df_train_2016)\n",
    "\n",
    "missing_values = df_2016_missing.sort_values(by='ratio', ascending=False )\n",
    "missing_values"
   ]
  },
  {
   "cell_type": "code",
   "execution_count": null,
   "metadata": {},
   "outputs": [],
   "source": [
    "len(missing_values[missing_values['ratio']>0.95])"
   ]
  },
  {
   "cell_type": "code",
   "execution_count": null,
   "metadata": {},
   "outputs": [],
   "source": [
    "# Draw horizontal Bar plot for missing values\n",
    "\n",
    "plt.rcdefaults()\n",
    "fig, ax = plt.subplots(figsize=(12,18))\n",
    "\n",
    "y_pos = np.arange(len(missing_values))\n",
    "\n",
    "\n",
    "ax.barh(y_pos, missing_values['missing_values'],   color='green')\n",
    "ax.set_yticks(y_pos)\n",
    "ax.set_yticklabels(missing_values['index'].values)\n",
    "ax.invert_yaxis()  # labels read top-to-bottom\n",
    "ax.set_xlabel('Missing values')\n",
    "ax.set_title('missing values in each column')\n",
    "\n",
    "plt.show()\n",
    "\n",
    "\n",
    "\n"
   ]
  },
  {
   "cell_type": "markdown",
   "metadata": {},
   "source": [
    "## Outliers\n",
    "\n",
    "Let's draw a scatter plot on \"logerror\", then we can find that there are some outliers at the end of both sides. \n",
    "\n",
    "Our task in the project is to find where the zillow algorithm fails. These outliers means where the zillow algorithm fails the most. Thus, I will leave outliers just like that. \n"
   ]
  },
  {
   "cell_type": "code",
   "execution_count": null,
   "metadata": {},
   "outputs": [],
   "source": [
    "plt.scatter(range(df_train_2016.shape[0]), df_train_2016.sort_values(by='logerror')['logerror'])\n",
    "plt.show()"
   ]
  },
  {
   "cell_type": "markdown",
   "metadata": {},
   "source": [
    "# Data Storytelling\n",
    "\n",
    "## Distribution of Logerror\n",
    "\n",
    "We would check both logerror and absolute value of logerror. Logerror indicates wheather estimated house values has been underestimated or overestimated while absolute logerror tells us that how estimated house value is close to an actual house value. It seems like the distribution of logerror follows a normal distribution. "
   ]
  },
  {
   "cell_type": "code",
   "execution_count": null,
   "metadata": {
    "scrolled": true
   },
   "outputs": [],
   "source": [
    "#Distribution of Logerror\n",
    "\n",
    "plt.hist(df_train_2016.logerror,50)\n",
    "plt.title(\"Distribution of Logerror\")\n",
    "plt.xlabel(\"Logerror\")\n",
    "plt.ylabel(\"Count\")\n",
    "plt.show()"
   ]
  },
  {
   "cell_type": "code",
   "execution_count": null,
   "metadata": {},
   "outputs": [],
   "source": [
    "#Distribution of absolute Logerror\n",
    "\n",
    "plt.hist(abs(df_train_2016.logerror),50)\n",
    "plt.title(\"Distribution of absolute Logerror\")\n",
    "plt.xlabel(\"Logerror\")\n",
    "plt.ylabel(\"Count\")\n",
    "plt.show()"
   ]
  },
  {
   "cell_type": "markdown",
   "metadata": {},
   "source": [
    "## Transaction dates\n",
    "\n",
    "Let's check the distribution of transaction dates, there are fewer transactions after October"
   ]
  },
  {
   "cell_type": "code",
   "execution_count": null,
   "metadata": {
    "scrolled": true
   },
   "outputs": [],
   "source": [
    "#Distribution of transaction dates\n",
    "\n",
    "trs_month = df_train_2016['transactiondate'].dt.month.value_counts()\n",
    "\n",
    "plt.figure(figsize=(12,6))\n",
    "sns.barplot(trs_month.index, trs_month.values, alpha=0.8,color ='blue' )\n",
    "\n",
    "plt.xlabel('Month of transaction')\n",
    "plt.ylabel('Count')\n",
    "plt.show()\n",
    "\n"
   ]
  },
  {
   "cell_type": "markdown",
   "metadata": {},
   "source": [
    "## Correlation\n",
    "\n",
    "Let's check correlations to \"logeror\" to see how variables are related. Square of basement and year built are the top 2 variables which have high correlations. \n"
   ]
  },
  {
   "cell_type": "code",
   "execution_count": null,
   "metadata": {
    "scrolled": true
   },
   "outputs": [],
   "source": [
    "corr = df_train_2016.corr()\n",
    "\n",
    "corr_logerror = corr.loc[\"logerror\",:] [ corr.loc[\"logerror\",:].notnull() ].reset_index()\n",
    "corr_logerror.columns = [\"index\",'corr']\n",
    "corr_logerror_sorted = corr_logerror.sort_values(by='corr', ascending=False )[1:]\n",
    "\n",
    "\n",
    "\n",
    "plt.rcdefaults()\n",
    "fig, ax = plt.subplots(figsize=(12,18))\n",
    "\n",
    "y_pos = np.arange(len(corr_logerror_sorted))\n",
    "\n",
    "\n",
    "ax.barh(y_pos, corr_logerror_sorted['corr'],   color='green')\n",
    "ax.set_yticks(y_pos)\n",
    "ax.set_yticklabels(corr_logerror_sorted['index'].values)\n",
    "ax.invert_yaxis()  # labels read top-to-bottom\n",
    "ax.set_xlabel('Correlation')\n",
    "ax.set_title('Correlation for logerror')\n",
    "\n",
    "plt.show()\n",
    "\n"
   ]
  },
  {
   "cell_type": "markdown",
   "metadata": {},
   "source": [
    "# Let's explore Variables\n",
    "\n",
    "\n",
    "## Number of Bedroom\n",
    "\n",
    "It seems logerror is high when number of bedroom is 4. "
   ]
  },
  {
   "cell_type": "code",
   "execution_count": null,
   "metadata": {
    "scrolled": true
   },
   "outputs": [],
   "source": [
    "y= df_train_2016['logerror']\n",
    "x= df_train_2016['bedroomcnt']\n",
    "s= df_train_2016['bedroomcnt']\n",
    "\n",
    "corr = np.corrcoef(x, y)[0, 1]\n",
    "plt.figure(figsize=(5,5))\n",
    "plt.title('check short_desc corr = %s'%corr)\n",
    "plt.xlabel('bedroomcnt')\n",
    "plt.ylabel('logerror')\n",
    "plt.grid(True)\n",
    "plt.scatter(x, y, alpha=0.5,s=s)\n",
    "plt.show()"
   ]
  },
  {
   "cell_type": "markdown",
   "metadata": {},
   "source": [
    "## Lattitude and longitude"
   ]
  },
  {
   "cell_type": "code",
   "execution_count": null,
   "metadata": {
    "scrolled": true
   },
   "outputs": [],
   "source": [
    "y= df_train_2016['latitude']\n",
    "x= df_train_2016['longitude']\n",
    "s=1\n",
    "plt.figure(figsize=(5,5))\n",
    "\n",
    "plt.xlabel('longitude')\n",
    "plt.ylabel('latitude')\n",
    "plt.grid(True)\n",
    "plt.scatter(x, y, alpha=0.5,s=s)\n",
    "plt.show()"
   ]
  },
  {
   "cell_type": "markdown",
   "metadata": {},
   "source": [
    "##  Type of cooling system present in the home\n",
    "\n",
    "There are 61494 missing values out of 90275. I filled missing values with 0 to see how logerror is related to type of cooling system.  Logerror is low when cooling system > 1\n",
    "\n",
    "Type of cooling system is like below. \n",
    "1\tCentral, \n",
    "2\tChilled Water,\n",
    "3\tEvaporative Cooler,\n",
    "4\tGeo Thermal,\n",
    "5\tNone,\n",
    "6\tOther,\n",
    "7\tPackaged AC Unit,\n",
    "8\tPartial,\n",
    "9\tRefrigeration,\n",
    "10\tVentilation,\n",
    "11\tWall Unit,\n",
    "12\tWindow Unit"
   ]
  },
  {
   "cell_type": "code",
   "execution_count": null,
   "metadata": {},
   "outputs": [],
   "source": [
    "df_train_2016['transaction_month'] = df_train_2016['transactiondate'].dt.month\n",
    "train_y = df_train_2016['logerror'].values\n",
    "cat_cols = [\"hashottuborspa\", \"propertycountylandusecode\", \"propertyzoningdesc\", \"fireplaceflag\", \"taxdelinquencyflag\"]\n",
    "train_df = df_train_2016.drop(['parcelid', 'logerror', 'transaction_month']+cat_cols, axis=1)\n",
    "feat_names = df_train_2016.columns.values\n",
    "\n",
    "train_df.head(5)"
   ]
  },
  {
   "cell_type": "code",
   "execution_count": null,
   "metadata": {},
   "outputs": [],
   "source": [
    "train_df['airconditioningtypeid'].describe()"
   ]
  },
  {
   "cell_type": "code",
   "execution_count": null,
   "metadata": {},
   "outputs": [],
   "source": [
    "train_df.loc[train_df['airconditioningtypeid'].isnull(),'airconditioningtypeid']=0"
   ]
  },
  {
   "cell_type": "code",
   "execution_count": null,
   "metadata": {},
   "outputs": [],
   "source": [
    "y= df_train_2016['logerror']\n",
    "x= train_df['airconditioningtypeid']\n",
    "\n",
    "s = 1\n",
    "corr = np.corrcoef(x, y)[0, 1]\n",
    "plt.figure(figsize=(5,5))\n",
    "plt.title('check short_desc corr = %s'%corr)\n",
    "plt.xlabel('airconditioningtypeid')\n",
    "plt.ylabel('logerror')\n",
    "plt.grid(True)\n",
    "plt.scatter(x, y, alpha=0.5,s=s)\n",
    "\n",
    "plt.show()"
   ]
  },
  {
   "cell_type": "markdown",
   "metadata": {},
   "source": [
    "##  Architectural style of the home\n",
    "\n",
    "There are 90014 missing values out of 90275. Missing values are filled with 0 .  Logerror is high when value is 0. Logerror is low for 261 non-missing values. Need to explore more for 261 values to see how logerror is low. "
   ]
  },
  {
   "cell_type": "code",
   "execution_count": null,
   "metadata": {},
   "outputs": [],
   "source": [
    "train_df['architecturalstyletypeid'].describe()"
   ]
  },
  {
   "cell_type": "code",
   "execution_count": null,
   "metadata": {},
   "outputs": [],
   "source": [
    "train_df.loc[train_df['architecturalstyletypeid'].isnull(),'architecturalstyletypeid']=0\n",
    "\n",
    "y= df_train_2016['logerror']\n",
    "x= train_df['architecturalstyletypeid']\n",
    "\n",
    "s = 1\n",
    "corr = np.corrcoef(x, y)[0, 1]\n",
    "plt.figure(figsize=(5,5))\n",
    "plt.title('check short_desc corr = %s'%corr)\n",
    "plt.xlabel('architecturalstyletypeid')\n",
    "plt.ylabel('logerror')\n",
    "plt.grid(True)\n",
    "plt.scatter(x, y, alpha=0.5,s=s)\n",
    "\n",
    "plt.show()"
   ]
  },
  {
   "cell_type": "markdown",
   "metadata": {},
   "source": [
    "##  Finished living area below or partially below ground level"
   ]
  },
  {
   "cell_type": "code",
   "execution_count": null,
   "metadata": {},
   "outputs": [],
   "source": [
    "train_df['basementsqft'].describe()"
   ]
  },
  {
   "cell_type": "code",
   "execution_count": null,
   "metadata": {},
   "outputs": [],
   "source": [
    "df_train_2016[df_train_2016['basementsqft'].isnull()]['logerror'].describe()"
   ]
  },
  {
   "cell_type": "code",
   "execution_count": null,
   "metadata": {},
   "outputs": [],
   "source": [
    "df_train_2016[df_train_2016['basementsqft'].isnull()]['logerror'].hist(bins=50)\n",
    "plt.show()"
   ]
  },
  {
   "cell_type": "code",
   "execution_count": null,
   "metadata": {
    "scrolled": false
   },
   "outputs": [],
   "source": [
    "df_train_2016[~df_train_2016['basementsqft'].isnull()]['logerror'].hist(bins=50)\n",
    "plt.show()"
   ]
  },
  {
   "cell_type": "markdown",
   "metadata": {},
   "source": [
    "## Number of Bathrooms"
   ]
  },
  {
   "cell_type": "code",
   "execution_count": null,
   "metadata": {},
   "outputs": [],
   "source": [
    "df_train_2016['bathroomcnt'].describe()"
   ]
  },
  {
   "cell_type": "code",
   "execution_count": null,
   "metadata": {},
   "outputs": [],
   "source": [
    "y= df_train_2016['logerror']\n",
    "x= train_df['bathroomcnt']\n",
    "\n",
    "s = 1\n",
    "corr = np.corrcoef(x, y)[0, 1]\n",
    "plt.figure(figsize=(5,5))\n",
    "plt.title('check short_desc corr = %s'%corr)\n",
    "plt.xlabel('bathroomcnt')\n",
    "plt.ylabel('logerror')\n",
    "plt.grid(True)\n",
    "plt.scatter(x, y, alpha=0.5,s=s)\n",
    "\n",
    "plt.show()"
   ]
  },
  {
   "cell_type": "markdown",
   "metadata": {},
   "source": [
    "## County in which the property is located"
   ]
  },
  {
   "cell_type": "code",
   "execution_count": null,
   "metadata": {},
   "outputs": [],
   "source": [
    "\n",
    "train_df['regionidcounty'].unique()\n",
    "\n"
   ]
  },
  {
   "cell_type": "code",
   "execution_count": null,
   "metadata": {},
   "outputs": [],
   "source": [
    "y= df_train_2016['logerror']\n",
    "x= train_df['regionidcounty']\n",
    "\n",
    "s = 1\n",
    "corr = np.corrcoef(x, y)[0, 1]\n",
    "plt.figure(figsize=(5,5))\n",
    "plt.title('check short_desc corr = %s'%corr)\n",
    "plt.xlabel('Recion County')\n",
    "plt.ylabel('logerror')\n",
    "plt.grid(True)\n",
    "plt.scatter(x, y, alpha=0.5,s=s)\n",
    "\n",
    "plt.show()"
   ]
  },
  {
   "cell_type": "code",
   "execution_count": null,
   "metadata": {},
   "outputs": [],
   "source": [
    "train_df['regionidcounty'].hist()\n",
    "plt.show()"
   ]
  },
  {
   "cell_type": "code",
   "execution_count": null,
   "metadata": {},
   "outputs": [],
   "source": []
  }
 ],
 "metadata": {
  "kernelspec": {
   "display_name": "Python 3",
   "language": "python",
   "name": "python3"
  },
  "language_info": {
   "codemirror_mode": {
    "name": "ipython",
    "version": 3
   },
   "file_extension": ".py",
   "mimetype": "text/x-python",
   "name": "python",
   "nbconvert_exporter": "python",
   "pygments_lexer": "ipython3",
   "version": "3.6.4"
  }
 },
 "nbformat": 4,
 "nbformat_minor": 2
}
